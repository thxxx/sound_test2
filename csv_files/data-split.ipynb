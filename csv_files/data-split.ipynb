{
 "cells": [
  {
   "cell_type": "markdown",
   "id": "870013bf-30c5-4d17-9d08-9af5098e5ec2",
   "metadata": {
    "jp-MarkdownHeadingCollapsed": true
   },
   "source": [
    "### Default"
   ]
  },
  {
   "cell_type": "code",
   "execution_count": 1,
   "id": "49809938-68e7-470a-bc63-e01029033e60",
   "metadata": {},
   "outputs": [
    {
     "name": "stdout",
     "output_type": "stream",
     "text": [
      "Train Dataset:\n",
      "                                   sliced_audio_path  \\\n",
      "0  /workspace/youtube_audio_storage/sliced_audios...   \n",
      "1  /workspace/youtube_audio_storage/sliced_audios...   \n",
      "2  /workspace/youtube_audio_storage/sliced_audios...   \n",
      "3  /workspace/youtube_audio_storage/sliced_audios...   \n",
      "4  /workspace/youtube_audio_storage/sliced_audios...   \n",
      "\n",
      "                                         description  \n",
      "0  The sound of a guitar being strummed in the ba...  \n",
      "1  First, a series of electronic bleeping noises ...  \n",
      "2  Someone is singing into a microphone, starting...  \n",
      "3  First, there is a slight static hum on the mic...  \n",
      "4  Resampled and processed cymbal crash with dela...  \n",
      "\n",
      "Eval Dataset:\n",
      "                                       sliced_audio_path  \\\n",
      "83555  /workspace/youtube_audio_storage/sliced_audios...   \n",
      "83556  /workspace/youtube_audio_storage/sliced_audios...   \n",
      "83557  /workspace/youtube_audio_storage/sliced_audios...   \n",
      "83558  /workspace/youtube_audio_storage/sliced_audios...   \n",
      "83559  /workspace/youtube_audio_storage/sliced_audios...   \n",
      "\n",
      "                                             description  \n",
      "83555  First, there is a low frequency electronic hum...  \n",
      "83556  A bubbling sound occurs followed by a dripping...  \n",
      "83557  The sound of flowing water followed by a squea...  \n",
      "83558  A metal object of unknown origin rattles nearb...  \n",
      "83559  Multiple light taps and scrapes occurring in q...  \n"
     ]
    }
   ],
   "source": [
    "import pandas as pd\n",
    "import numpy as np\n",
    "\n",
    "# CSV 파일 경로\n",
    "csv_path = \"./roblox_under_30s_full.csv\"\n",
    "\n",
    "# CSV 파일 읽기\n",
    "df = pd.read_csv(csv_path)\n",
    "\n",
    "# 'sliced_audio_path' 및 'description' 열 선택\n",
    "df = df[['sliced_audio_path', 'description']]\n",
    "\n",
    "# 데이터를 무작위로 섞기\n",
    "df = df.sample(frac=1).reset_index(drop=True)\n",
    "\n",
    "# 데이터를 90% 훈련, 10% 평가로 분할\n",
    "split_index = int(0.9 * len(df))\n",
    "train_df = df[:split_index]\n",
    "eval_df = df[split_index:]\n",
    "\n",
    "# 결과 출력\n",
    "print(\"Train Dataset:\")\n",
    "print(train_df.head())\n",
    "print(\"\\nEval Dataset:\")\n",
    "print(eval_df.head())\n",
    "\n",
    "# 필요하다면 CSV 파일로 저장\n",
    "train_df.to_csv('train_dataset.csv', index=False)\n",
    "eval_df.to_csv('eval_dataset.csv', index=False)\n"
   ]
  },
  {
   "cell_type": "markdown",
   "id": "bae9a006-044e-42ae-b653-109cc72ddfa2",
   "metadata": {},
   "source": [
    "### Filter under 10s"
   ]
  },
  {
   "cell_type": "code",
   "execution_count": 1,
   "id": "f8e7fee3-c05f-4a6a-9d6e-5875319177bc",
   "metadata": {},
   "outputs": [],
   "source": [
    "import pandas as pd\n",
    "from pydub import AudioSegment\n",
    "\n",
    "# 데이터 로드\n",
    "df = pd.read_csv(\"./roblox_under_30s_full.csv\")\n",
    "\n",
    "# 'sliced_audio_path' 및 'description' 열 선택\n",
    "df = df[['sliced_audio_path', 'description']]\n",
    "\n",
    "# 5초 미만인 음원의 인덱스 수집\n",
    "under_5_seconds_indices = []\n",
    "for idx, row in df.iterrows():\n",
    "    try:\n",
    "        #import time\n",
    "        #st = time.time()\n",
    "        #audio = AudioSegment.from_file(row['sliced_audio_path'])\n",
    "        from audiotools import AudioSignal\n",
    "        audio = AudioSignal(row['sliced_audio_path'])\n",
    "        #print(time.time()-st)\n",
    "        if audio.signal_duration < 5:  # 5초는 5000밀리초\n",
    "         #   print(audio.signal_duration)\n",
    "            under_5_seconds_indices.append(idx)\n",
    "    except:\n",
    "        continue  # 파일 로드 실패 시, 무시\n",
    "\n",
    "\n"
   ]
  },
  {
   "cell_type": "code",
   "execution_count": 2,
   "id": "8b4ddcea-17d6-4b33-a3bb-d8fe94f3e34a",
   "metadata": {},
   "outputs": [],
   "source": [
    "# 필터링된 인덱스를 사용하여 새로운 데이터프레임 생성\n",
    "df_under_5s = df.loc[under_5_seconds_indices]\n",
    "\n",
    "# 필터링된 데이터 저장\n",
    "df_under_5s.to_csv('roblox_under_5s.csv', index=False)\n"
   ]
  },
  {
   "cell_type": "code",
   "execution_count": 3,
   "id": "e5246c3a-91d9-43c0-9490-885885525567",
   "metadata": {},
   "outputs": [
    {
     "name": "stdout",
     "output_type": "stream",
     "text": [
      "Train Dataset:\n",
      "                                   sliced_audio_path  \\\n",
      "0  /workspace/youtube_audio_storage/sliced_audios...   \n",
      "1  /workspace/youtube_audio_storage/sliced_audios...   \n",
      "2  /workspace/youtube_audio_storage/sliced_audios...   \n",
      "3  /workspace/youtube_audio_storage/sliced_audios...   \n",
      "4  /workspace/youtube_audio_storage/sliced_audios...   \n",
      "\n",
      "                                         description  \n",
      "0  A sustained whoosh of wind followed by rustlin...  \n",
      "1  The sound of water splashing like a fountain o...  \n",
      "2  The sound of a laser beam shooting through the...  \n",
      "3  The audio starts with a hard object being rubb...  \n",
      "4  The audio starts with a high-pitched squeal of...  \n",
      "\n",
      "Eval Dataset:\n",
      "                                       sliced_audio_path  \\\n",
      "42984  /workspace/youtube_audio_storage/sliced_audios...   \n",
      "42985  /workspace/youtube_audio_storage/sliced_audios...   \n",
      "42986  /workspace/youtube_audio_storage/sliced_audios...   \n",
      "42987  /workspace/youtube_audio_storage/sliced_audios...   \n",
      "42988  /workspace/youtube_audio_storage/sliced_audios...   \n",
      "\n",
      "                                             description  \n",
      "42984  First, there is a brief silence, followed by a...  \n",
      "42985  A very high pitched beep with a bell ringing a...  \n",
      "42986  The sound of footsteps dragging across gravel,...  \n",
      "42987  A low level background noise is present as a p...  \n",
      "42988  A hard object is banged onto another hard obje...  \n"
     ]
    }
   ],
   "source": [
    "import pandas as pd\n",
    "import numpy as np\n",
    "\n",
    "# CSV 파일 경로\n",
    "csv_path = \"./roblox_under_5s.csv\"\n",
    "\n",
    "# CSV 파일 읽기\n",
    "df = pd.read_csv(csv_path)\n",
    "\n",
    "# 'sliced_audio_path' 및 'description' 열 선택\n",
    "df = df[['sliced_audio_path', 'description']]\n",
    "\n",
    "# 데이터를 무작위로 섞기\n",
    "df = df.sample(frac=1).reset_index(drop=True)\n",
    "\n",
    "# 데이터를 90% 훈련, 10% 평가로 분할\n",
    "split_index = int(0.9 * len(df))\n",
    "train_df = df[:split_index]\n",
    "eval_df = df[split_index:]\n",
    "\n",
    "# 결과 출력\n",
    "print(\"Train Dataset:\")\n",
    "print(train_df.head())\n",
    "print(\"\\nEval Dataset:\")\n",
    "print(eval_df.head())\n",
    "\n",
    "# 필요하다면 CSV 파일로 저장\n",
    "train_df.to_csv('train_dataset.csv', index=False)\n",
    "eval_df.to_csv('eval_dataset.csv', index=False)"
   ]
  },
  {
   "cell_type": "code",
   "execution_count": 4,
   "id": "5ad98307-ea6a-417e-9e06-c9f6c1e8b540",
   "metadata": {},
   "outputs": [
    {
     "data": {
      "text/plain": [
       "42984"
      ]
     },
     "execution_count": 4,
     "metadata": {},
     "output_type": "execute_result"
    }
   ],
   "source": [
    "len(train_df)"
   ]
  },
  {
   "cell_type": "markdown",
   "id": "27f21941-20f8-4db4-be54-4c2892aae1b1",
   "metadata": {
    "jp-MarkdownHeadingCollapsed": true
   },
   "source": [
    "### SFX epidemic beep"
   ]
  },
  {
   "cell_type": "code",
   "execution_count": 6,
   "id": "35b3bbed-0382-4f29-990f-3798b2c6826c",
   "metadata": {},
   "outputs": [
    {
     "name": "stdout",
     "output_type": "stream",
     "text": [
      "CSV file saved as sfx_epidemic_sounds.csv\n"
     ]
    }
   ],
   "source": [
    "import os\n",
    "import pandas as pd\n",
    "\n",
    "# .wav 파일들이 있는 폴더 경로\n",
    "folder_path = \"/workspace/SFX_epidemic\"\n",
    "\n",
    "# 폴더 내의 모든 .wav 파일들의 절대 경로 찾기\n",
    "wav_files = [os.path.join(folder_path, file) for file in os.listdir(folder_path) if file.endswith('.wav')]\n",
    "\n",
    "# 데이터프레임 생성\n",
    "df = pd.DataFrame({\n",
    "    'sliced_audio_path': wav_files,\n",
    "    'description': ['beep sound effects'] * len(wav_files)\n",
    "})\n",
    "\n",
    "# CSV 파일로 저장\n",
    "csv_output_path = 'sfx_epidemic_sounds.csv'\n",
    "df.to_csv(csv_output_path, index=False)\n",
    "\n",
    "print(f\"CSV file saved as {csv_output_path}\")\n"
   ]
  },
  {
   "cell_type": "code",
   "execution_count": 7,
   "id": "3a314843-faa1-492e-a40e-e3affebc305a",
   "metadata": {},
   "outputs": [
    {
     "name": "stdout",
     "output_type": "stream",
     "text": [
      "Train Dataset:\n",
      "                                   sliced_audio_path         description\n",
      "0  /workspace/SFX_epidemic/ES_Beep Tone Readout 8...  beep sound effects\n",
      "1  /workspace/SFX_epidemic/ES_PREL Glitch Short 1...  beep sound effects\n",
      "2  /workspace/SFX_epidemic/ES_PREL Data FX 112 - ...  beep sound effects\n",
      "3  /workspace/SFX_epidemic/ES_Multimedia Action 2...  beep sound effects\n",
      "4  /workspace/SFX_epidemic/ES_Multimedia Notify 6...  beep sound effects\n",
      "\n",
      "Eval Dataset:\n",
      "                                      sliced_audio_path         description\n",
      "1082  /workspace/SFX_epidemic/ES_Multimedia 768 - SF...  beep sound effects\n",
      "1083  /workspace/SFX_epidemic/ES_Multimedia Alarm 68...  beep sound effects\n",
      "1084  /workspace/SFX_epidemic/ES_Multimedia 735 - SF...  beep sound effects\n",
      "1085  /workspace/SFX_epidemic/ES_Beep Tone Signal 57...  beep sound effects\n",
      "1086  /workspace/SFX_epidemic/ES_MM Notification 14 ...  beep sound effects\n"
     ]
    }
   ],
   "source": [
    "import pandas as pd\n",
    "import numpy as np\n",
    "\n",
    "# CSV 파일 경로\n",
    "csv_path = \"./sfx_epidemic_sounds.csv\"\n",
    "\n",
    "# CSV 파일 읽기\n",
    "df = pd.read_csv(csv_path)\n",
    "\n",
    "# 'sliced_audio_path' 및 'description' 열 선택\n",
    "df = df[['sliced_audio_path', 'description']]\n",
    "\n",
    "# 데이터를 무작위로 섞기\n",
    "df = df.sample(frac=1).reset_index(drop=True)\n",
    "\n",
    "# 데이터를 90% 훈련, 10% 평가로 분할\n",
    "split_index = int(0.9 * len(df))\n",
    "train_df = df[:split_index]\n",
    "eval_df = df[split_index:]\n",
    "\n",
    "# 결과 출력\n",
    "print(\"Train Dataset:\")\n",
    "print(train_df.head())\n",
    "print(\"\\nEval Dataset:\")\n",
    "print(eval_df.head())\n",
    "\n",
    "# 필요하다면 CSV 파일로 저장\n",
    "train_df.to_csv('train_dataset.csv', index=False)\n",
    "eval_df.to_csv('eval_dataset.csv', index=False)"
   ]
  },
  {
   "cell_type": "markdown",
   "id": "5c4db1b8-99d6-4412-93a3-63f361616c73",
   "metadata": {},
   "source": [
    "### Epidemic SFX"
   ]
  },
  {
   "cell_type": "code",
   "execution_count": 3,
   "id": "7ffdac24-4578-45a3-9bd5-72bf709a66fb",
   "metadata": {},
   "outputs": [
    {
     "name": "stdout",
     "output_type": "stream",
     "text": [
      "CSV file saved as sfx_epidemic_sounds.csv\n"
     ]
    }
   ],
   "source": [
    "import os\n",
    "import pandas as pd\n",
    "\n",
    "# 기본 폴더 경로 설정\n",
    "base_folder_path = \"/workspace/epidemic_audios\"\n",
    "\n",
    "# 모든 하위 폴더 목록 가져오기\n",
    "subfolders = [f.name for f in os.scandir(base_folder_path) if f.is_dir()]\n",
    "\n",
    "# 데이터프레임 생성\n",
    "df = pd.DataFrame(columns=['sliced_audio_path', 'description'])\n",
    "\n",
    "\n",
    "# 각 하위 폴더에서 .wav 파일을 찾아서 데이터프레임에 추가\n",
    "for subfolder in subfolders:\n",
    "    folder_path = os.path.join(base_folder_path, subfolder)\n",
    "    wav_files = [os.path.join(folder_path, file) for file in os.listdir(folder_path) if file.endswith('.wav')]\n",
    "    descriptions = [subfolder] * len(wav_files)\n",
    "    \n",
    "    sub_df = pd.DataFrame({\n",
    "        'sliced_audio_path': wav_files,\n",
    "        'description': descriptions\n",
    "    })\n",
    "    \n",
    "    df = pd.concat([df, sub_df], ignore_index=True)\n",
    "\n",
    "# CSV 파일로 저장\n",
    "csv_output_path = 'sfx_epidemic_sounds.csv'\n",
    "df.to_csv(csv_output_path, index=False)\n",
    "\n",
    "print(f\"CSV file saved as {csv_output_path}\")\n"
   ]
  },
  {
   "cell_type": "markdown",
   "id": "97198a07-09a9-4c43-bcf9-4e3b93295154",
   "metadata": {},
   "source": [
    "### Epidemic SFX under 5s"
   ]
  },
  {
   "cell_type": "code",
   "execution_count": 1,
   "id": "7313e567-324d-40da-a296-af995fe91749",
   "metadata": {},
   "outputs": [],
   "source": [
    "import pandas as pd\n",
    "\n",
    "# 데이터 로드\n",
    "df = pd.read_csv(\"./sfx_epidemic_sounds.csv\")\n",
    "\n",
    "# 'sliced_audio_path' 및 'description' 열 선택\n",
    "df = df[['sliced_audio_path', 'description']]\n",
    "\n",
    "# 5초 미만인 음원의 인덱스 수집\n",
    "under_5_seconds_indices = []\n",
    "for idx, row in df.iterrows():\n",
    "    try:\n",
    "        from audiotools import AudioSignal\n",
    "        audio = AudioSignal(row['sliced_audio_path'])\n",
    "        if audio.signal_duration < 5:  # 5초는 5000밀리초\n",
    "            #print(audio.signal_duration)\n",
    "            under_5_seconds_indices.append(idx)\n",
    "    except:\n",
    "        continue  # 파일 로드 실패 시, 무시\n"
   ]
  },
  {
   "cell_type": "code",
   "execution_count": 2,
   "id": "5eacecb1-3b31-475c-ae2d-05cb3f67d680",
   "metadata": {},
   "outputs": [],
   "source": [
    "# 필터링된 인덱스를 사용하여 새로운 데이터프레임 생성\n",
    "df_under_5s = df.loc[under_5_seconds_indices]\n",
    "\n",
    "# 필터링된 데이터 저장\n",
    "df_under_5s.to_csv('epidemic_under_5s.csv', index=False)"
   ]
  },
  {
   "cell_type": "code",
   "execution_count": 7,
   "id": "33610c8b-1b01-43f8-9a78-feb97930e8db",
   "metadata": {},
   "outputs": [
    {
     "data": {
      "text/plain": [
       "45224"
      ]
     },
     "execution_count": 7,
     "metadata": {},
     "output_type": "execute_result"
    }
   ],
   "source": [
    "len(df_under_5s)"
   ]
  },
  {
   "cell_type": "markdown",
   "id": "e9e8bf28-d341-46f4-90d2-23273c9796a6",
   "metadata": {},
   "source": [
    "### Filter voice"
   ]
  },
  {
   "cell_type": "code",
   "execution_count": 11,
   "id": "65c793b0-dce3-4f2b-ac71-09f0bf5cd741",
   "metadata": {},
   "outputs": [
    {
     "name": "stdout",
     "output_type": "stream",
     "text": [
      "Filtered CSV file saved as filtered_epidemic_sounds_5s.csv\n"
     ]
    }
   ],
   "source": [
    "import pandas as pd\n",
    "\n",
    "# 기존 CSV 파일 경로\n",
    "csv_input_path = './epidemic_under_5s.csv'\n",
    "\n",
    "# CSV 파일 불러오기\n",
    "df = pd.read_csv(csv_input_path)\n",
    "\n",
    "# 'description' 열에 'voice' 워딩이 포함되지 않은 행 필터링\n",
    "filtered_df = df[~df['description'].str.contains('voice', case=False, na=False)]\n",
    "\n",
    "# 새로운 CSV 파일로 저장\n",
    "csv_output_path = 'filtered_epidemic_sounds_5s.csv'\n",
    "filtered_df.to_csv(csv_output_path, index=False)\n",
    "\n",
    "print(f\"Filtered CSV file saved as {csv_output_path}\")\n"
   ]
  },
  {
   "cell_type": "code",
   "execution_count": 12,
   "id": "be504afc-2b4b-41d4-89af-fe57db2bdb20",
   "metadata": {},
   "outputs": [
    {
     "data": {
      "text/plain": [
       "42768"
      ]
     },
     "execution_count": 12,
     "metadata": {},
     "output_type": "execute_result"
    }
   ],
   "source": [
    "len(filtered_df)"
   ]
  },
  {
   "cell_type": "markdown",
   "id": "0ca0acc2-3a79-440e-b51b-9a9a0db23461",
   "metadata": {},
   "source": [
    "### split train&eval"
   ]
  },
  {
   "cell_type": "code",
   "execution_count": 6,
   "id": "08344c0f-f39e-4a70-95ae-5e07b1b84959",
   "metadata": {},
   "outputs": [
    {
     "name": "stdout",
     "output_type": "stream",
     "text": [
      "Train Dataset:\n",
      "                                   sliced_audio_path description\n",
      "0  /workspace/epidemic_audios/bullets/q2Gf0tCzfI.wav     bullets\n",
      "1    /workspace/epidemic_audios/beeps/phbOS7fLhB.wav       beeps\n",
      "2   /workspace/epidemic_audios/stings/2jOMUiIBUA.wav      stings\n",
      "3  /workspace/epidemic_audios/fight-hit/BMZf7ai7j...   fight-hit\n",
      "4   /workspace/epidemic_audios/chimes/jFFpaj2wXE.wav      chimes\n",
      "\n",
      "Eval Dataset:\n",
      "                                       sliced_audio_path  \\\n",
      "21817  /workspace/epidemic_audios/splashes/CVE3rhhd2O...   \n",
      "21818  /workspace/epidemic_audios/misc-whooshes/R9hOC...   \n",
      "21819  /workspace/epidemic_audios/pistols/BTUbWNfWxC.wav   \n",
      "21820    /workspace/epidemic_audios/rocks/6XVk2dUUwJ.wav   \n",
      "21821  /workspace/epidemic_audios/metal-scrapes-squea...   \n",
      "\n",
      "                 description  \n",
      "21817               splashes  \n",
      "21818               whooshes  \n",
      "21819                pistols  \n",
      "21820                  rocks  \n",
      "21821  metal-scrapes-squeaks  \n"
     ]
    }
   ],
   "source": [
    "import pandas as pd\n",
    "import numpy as np\n",
    "\n",
    "# CSV 파일 경로\n",
    "csv_path = \"./epidemic_under_1s.csv\"\n",
    "\n",
    "# CSV 파일 읽기\n",
    "df = pd.read_csv(csv_path)\n",
    "\n",
    "# 'description' 열에서 \"misc-\" 문자열 제거\n",
    "df['description'] = df['description'].str.replace(\"misc-\", \"\")\n",
    "\n",
    "# 'sliced_audio_path' 및 'description' 열 선택\n",
    "df = df[['sliced_audio_path', 'description']]\n",
    "\n",
    "# 데이터를 무작위로 섞기\n",
    "df = df.sample(frac=1).reset_index(drop=True)\n",
    "\n",
    "# 데이터를 90% 훈련, 10% 평가로 분할\n",
    "split_index = int(0.9 * len(df))\n",
    "train_df = df[:split_index]\n",
    "eval_df = df[split_index:]\n",
    "\n",
    "# 결과 출력\n",
    "print(\"Train Dataset:\")\n",
    "print(train_df.head())\n",
    "print(\"\\nEval Dataset:\")\n",
    "print(eval_df.head())\n",
    "\n",
    "# 필요하다면 CSV 파일로 저장\n",
    "train_df.to_csv('train_dataset.csv', index=False)\n",
    "eval_df.to_csv('eval_dataset.csv', index=False)"
   ]
  },
  {
   "cell_type": "code",
   "execution_count": 3,
   "id": "9d28622a-37af-4c6c-b67a-b8a12272ec0f",
   "metadata": {},
   "outputs": [
    {
     "data": {
      "text/plain": [
       "0          zippers\n",
       "1          zippers\n",
       "2          zippers\n",
       "3          zippers\n",
       "4          zippers\n",
       "           ...    \n",
       "24237    arcs-zaps\n",
       "24238    arcs-zaps\n",
       "24239    arcs-zaps\n",
       "24240    arcs-zaps\n",
       "24241    arcs-zaps\n",
       "Name: description, Length: 24242, dtype: object"
      ]
     },
     "execution_count": 3,
     "metadata": {},
     "output_type": "execute_result"
    }
   ],
   "source": [
    "df['description']"
   ]
  },
  {
   "cell_type": "code",
   "execution_count": 1,
   "id": "6381eadd-f2ad-43a3-86f8-e941364fdedb",
   "metadata": {},
   "outputs": [
    {
     "name": "stdout",
     "output_type": "stream",
     "text": [
      "Train Zipper Dataset:\n",
      "                                   sliced_audio_path description\n",
      "0  /workspace/epidemic_audios/footsteps/oaVqTzCzr...   footsteps\n",
      "1  /workspace/epidemic_audios/footsteps/feOmvDOhw...   footsteps\n",
      "2  /workspace/epidemic_audios/footsteps/dKXCcfGAY...   footsteps\n",
      "3  /workspace/epidemic_audios/footsteps/GooAsCL8C...   footsteps\n",
      "4  /workspace/epidemic_audios/footsteps/sv47TJgX5...   footsteps\n",
      "\n",
      "Eval Zipper Dataset:\n",
      "                                     sliced_audio_path description\n",
      "534  /workspace/epidemic_audios/footsteps/Illg9pZlk...   footsteps\n",
      "535  /workspace/epidemic_audios/footsteps/yPoxLIivr...   footsteps\n",
      "536  /workspace/epidemic_audios/footsteps/q9CiIv3Qf...   footsteps\n",
      "537  /workspace/epidemic_audios/footsteps/PoMpPdSHy...   footsteps\n",
      "538  /workspace/epidemic_audios/footsteps/EfmsOZdP5...   footsteps\n"
     ]
    }
   ],
   "source": [
    "import pandas as pd\n",
    "import numpy as np\n",
    "\n",
    "# CSV 파일 경로\n",
    "csv_path = \"./epidemic_under_1s.csv\"\n",
    "\n",
    "# CSV 파일 읽기\n",
    "df = pd.read_csv(csv_path)\n",
    "\n",
    "# 'description' 열에서 \"misc-\" 문자열 제거\n",
    "df['description'] = df['description'].str.replace(\"misc-\", \"\")\n",
    "\n",
    "# Filter for rows where 'description' is 'zipper'\n",
    "zipper_df = df[df['description'] == 'footsteps']\n",
    "\n",
    "# 데이터를 무작위로 섞기\n",
    "zipper_df = zipper_df.sample(frac=1).reset_index(drop=True)\n",
    "\n",
    "# 데이터를 90% 훈련, 10% 평가로 분할\n",
    "split_index = int(0.9 * len(zipper_df))\n",
    "train_zipper_df = zipper_df[:split_index]\n",
    "eval_zipper_df = zipper_df[split_index:]\n",
    "\n",
    "# 결과 출력\n",
    "print(\"Train Zipper Dataset:\")\n",
    "print(train_zipper_df.head())\n",
    "print(\"\\nEval Zipper Dataset:\")\n",
    "print(eval_zipper_df.head())\n",
    "\n",
    "# 필요하다면 CSV 파일로 저장\n",
    "train_zipper_df.to_csv('train_dataset_footstep.csv', index=False)\n",
    "eval_zipper_df.to_csv('eval_dataset_footstep.csv', index=False)\n"
   ]
  },
  {
   "cell_type": "markdown",
   "id": "22db106d-d3fd-4f3f-ac18-4444b3b9ccef",
   "metadata": {},
   "source": [
    "### combine finetuning csv"
   ]
  },
  {
   "cell_type": "code",
   "execution_count": null,
   "id": "c619d813-a744-48f5-81e9-2f5eba55c195",
   "metadata": {},
   "outputs": [],
   "source": [
    "import pandas as pd\n",
    "\n",
    "# 파일 경로 정의\n",
    "file_paths = [\n",
    "    \"csv_files/updated_captions_part1.csv\",\n",
    "    \"csv_files/updated_captions_part2.csv\",\n",
    "    \"csv_files/updated_captions_part3.csv\"\n",
    "]\n",
    "\n",
    "# 각 파일을 DataFrame으로 읽어서 리스트에 저장\n",
    "dataframes = [pd.read_csv(file) for file in file_paths]\n",
    "\n",
    "# 모든 DataFrame을 하나로 결합\n",
    "combined_df = pd.concat(dataframes, ignore_index=True)\n",
    "\n",
    "# 결합된 데이터를 새 파일로 저장\n",
    "combined_df.to_csv(\"csv_files/combined_updated_captions.csv\", index=False)"
   ]
  },
  {
   "cell_type": "markdown",
   "id": "a51adbf4-8407-4bee-9db2-45752c875fde",
   "metadata": {},
   "source": [
    "### train/valid split"
   ]
  },
  {
   "cell_type": "code",
   "execution_count": 1,
   "id": "a050b437-dfad-4362-8483-35ac238799f4",
   "metadata": {},
   "outputs": [
    {
     "name": "stdout",
     "output_type": "stream",
     "text": [
      "Train Dataset:\n",
      "                                          audio_path  \\\n",
      "0  /workspace/data/epidemic-audios/zippers/zLG5Ns...   \n",
      "1  /workspace/data/epidemic-audios/zippers/yujEXP...   \n",
      "2  /workspace/data/epidemic-audios/zippers/yX8U8O...   \n",
      "3  /workspace/data/epidemic-audios/zippers/wdl5Oo...   \n",
      "4  /workspace/data/epidemic-audios/zippers/uYp71C...   \n",
      "\n",
      "                                             caption  \n",
      "0     The sound of a zipper being opened and closed.  \n",
      "1                The sound of a zipper being opened.  \n",
      "2                            Audio of a dog barking.  \n",
      "3  The sound of a whip being cracked and flying t...  \n",
      "4                           The sound of flatulence.  \n",
      "\n",
      "Eval Dataset:\n",
      "                                              audio_path  \\\n",
      "59797  /workspace/data/roblox-audios/roblox_audio_493...   \n",
      "59798  /workspace/data/roblox-audios/roblox_audio_493...   \n",
      "59799  /workspace/data/roblox-audios/roblox_audio_493...   \n",
      "59800  /workspace/data/roblox-audios/roblox_audio_493...   \n",
      "59801  /workspace/data/roblox-audios/roblox_audio_493...   \n",
      "\n",
      "                                                 caption  \n",
      "59797  A swishing sound is created by the movement of...  \n",
      "59798  A laser gun is being swung through the air. Th...  \n",
      "59799  A whooshing sound is followed by a swooshing s...  \n",
      "59800         A short, sharp whip is cracked in the air.  \n",
      "59801        A whooshing sound is present in this audio.  \n"
     ]
    }
   ],
   "source": [
    "import pandas as pd\n",
    "\n",
    "# 파일 읽기\n",
    "csv_path = \"../csv_files/combined_updated_captions.csv\"\n",
    "df = pd.read_csv(csv_path)\n",
    "\n",
    "# 데이터를 90% 훈련, 10% 평가로 분할\n",
    "split_index = int(0.95 * len(df))\n",
    "train_df = df[:split_index]\n",
    "eval_df = df[split_index:]\n",
    "\n",
    "# 결과 출력\n",
    "print(\"Train Dataset:\")\n",
    "print(train_df.head())\n",
    "print(\"\\nEval Dataset:\")\n",
    "print(eval_df.head())\n",
    "\n",
    "# 필요하다면 CSV 파일로 저장\n",
    "train_df.to_csv('../csv_files/train_dataset_combined_captions.csv', index=False)\n",
    "eval_df.to_csv('../csv_files/eval_dataset_combined_captions.csv', index=False)\n"
   ]
  },
  {
   "cell_type": "code",
   "execution_count": 2,
   "id": "f9aadc82-dacb-4f72-9f07-8674e569c4d6",
   "metadata": {},
   "outputs": [],
   "source": [
    "import pandas as pd\n",
    "\n",
    "# 파일 경로\n",
    "csv_path = \"../csv_files/eval_dataset_combined_captions.csv\"\n",
    "\n",
    "# CSV 파일 읽기\n",
    "df = pd.read_csv(csv_path)\n",
    "\n",
    "# 'caption' 열의 null이나 None 값을 <Random>으로 채우기\n",
    "df['caption'] = df['caption'].fillna('<Random>')\n",
    "\n",
    "# 동일한 파일명으로 덮어쓰기\n",
    "df.to_csv(csv_path, index=False)"
   ]
  },
  {
   "cell_type": "code",
   "execution_count": null,
   "id": "4566dd90-13cc-4c13-962b-1ade52c7422d",
   "metadata": {},
   "outputs": [],
   "source": []
  },
  {
   "cell_type": "markdown",
   "id": "0dd976d8-e4b5-449e-8719-221b2b40cabb",
   "metadata": {},
   "source": [
    "### split and fillna"
   ]
  },
  {
   "cell_type": "code",
   "execution_count": null,
   "id": "3a64fd25-41ad-449f-84cf-0d26e0ab7b5f",
   "metadata": {},
   "outputs": [],
   "source": [
    "import pandas as pd\n",
    "from sklearn.model_selection import train_test_split\n",
    "\n",
    "# 'filtered_captions.csv' 파일 읽기\n",
    "df = pd.read_csv('./csv_files/filtered_audio_info.csv')\n",
    "df['caption'] = df['caption'].fillna('<Random>')\n",
    "\n",
    "# 데이터를 90% 트레이닝과 10% 평가 데이터로 분할\n",
    "train_df, eval_df = train_test_split(df, test_size=0.1, random_state=42)\n",
    "\n",
    "# 분할된 데이터를 CSV 파일로 저장\n",
    "train_df.to_csv('./csv_files/train_dataset.csv', index=False)\n",
    "eval_df.to_csv('./csv_files/eval_dataset.csv', index=False)\n"
   ]
  },
  {
   "cell_type": "markdown",
   "id": "6d4991c7-c520-4d13-b50f-bc12d3f3f2c2",
   "metadata": {},
   "source": [
    "### add duration"
   ]
  },
  {
   "cell_type": "code",
   "execution_count": 3,
   "id": "904684c4-d42c-47fa-957a-2d3cabbbf32c",
   "metadata": {},
   "outputs": [
    {
     "data": {
      "text/html": [
       "<div>\n",
       "<style scoped>\n",
       "    .dataframe tbody tr th:only-of-type {\n",
       "        vertical-align: middle;\n",
       "    }\n",
       "\n",
       "    .dataframe tbody tr th {\n",
       "        vertical-align: top;\n",
       "    }\n",
       "\n",
       "    .dataframe thead th {\n",
       "        text-align: right;\n",
       "    }\n",
       "</style>\n",
       "<table border=\"1\" class=\"dataframe\">\n",
       "  <thead>\n",
       "    <tr style=\"text-align: right;\">\n",
       "      <th></th>\n",
       "      <th>audio_path</th>\n",
       "      <th>duration</th>\n",
       "    </tr>\n",
       "  </thead>\n",
       "  <tbody>\n",
       "    <tr>\n",
       "      <th>0</th>\n",
       "      <td>./data/epidemic-audios/zippers/zLG5NsC4Oc.wav</td>\n",
       "      <td>1.173333</td>\n",
       "    </tr>\n",
       "    <tr>\n",
       "      <th>1</th>\n",
       "      <td>./data/epidemic-audios/zippers/yujEXP3CcI.wav</td>\n",
       "      <td>1.301338</td>\n",
       "    </tr>\n",
       "    <tr>\n",
       "      <th>2</th>\n",
       "      <td>./data/epidemic-audios/zippers/yX8U8OtyYF.wav</td>\n",
       "      <td>0.906667</td>\n",
       "    </tr>\n",
       "    <tr>\n",
       "      <th>3</th>\n",
       "      <td>./data/epidemic-audios/zippers/wdl5Oo4MqK.wav</td>\n",
       "      <td>1.738662</td>\n",
       "    </tr>\n",
       "    <tr>\n",
       "      <th>4</th>\n",
       "      <td>./data/epidemic-audios/zippers/uYp71C92QO.wav</td>\n",
       "      <td>1.354671</td>\n",
       "    </tr>\n",
       "    <tr>\n",
       "      <th>...</th>\n",
       "      <td>...</td>\n",
       "      <td>...</td>\n",
       "    </tr>\n",
       "    <tr>\n",
       "      <th>79045</th>\n",
       "      <td>./data/roblox-audios/roblox_audio_10/911344600...</td>\n",
       "      <td>1.435125</td>\n",
       "    </tr>\n",
       "    <tr>\n",
       "      <th>79046</th>\n",
       "      <td>./data/roblox-audios/roblox_audio_10/184829480...</td>\n",
       "      <td>1.348299</td>\n",
       "    </tr>\n",
       "    <tr>\n",
       "      <th>79047</th>\n",
       "      <td>./data/roblox-audios/roblox_audio_10/184667486...</td>\n",
       "      <td>2.768980</td>\n",
       "    </tr>\n",
       "    <tr>\n",
       "      <th>79048</th>\n",
       "      <td>./data/roblox-audios/roblox_audio_10/184613117...</td>\n",
       "      <td>1.684308</td>\n",
       "    </tr>\n",
       "    <tr>\n",
       "      <th>79049</th>\n",
       "      <td>./data/boom-ui-sounds/boom_ui_2/Generic_Button...</td>\n",
       "      <td>2.805333</td>\n",
       "    </tr>\n",
       "  </tbody>\n",
       "</table>\n",
       "<p>79050 rows × 2 columns</p>\n",
       "</div>"
      ],
      "text/plain": [
       "                                              audio_path  duration\n",
       "0          ./data/epidemic-audios/zippers/zLG5NsC4Oc.wav  1.173333\n",
       "1          ./data/epidemic-audios/zippers/yujEXP3CcI.wav  1.301338\n",
       "2          ./data/epidemic-audios/zippers/yX8U8OtyYF.wav  0.906667\n",
       "3          ./data/epidemic-audios/zippers/wdl5Oo4MqK.wav  1.738662\n",
       "4          ./data/epidemic-audios/zippers/uYp71C92QO.wav  1.354671\n",
       "...                                                  ...       ...\n",
       "79045  ./data/roblox-audios/roblox_audio_10/911344600...  1.435125\n",
       "79046  ./data/roblox-audios/roblox_audio_10/184829480...  1.348299\n",
       "79047  ./data/roblox-audios/roblox_audio_10/184667486...  2.768980\n",
       "79048  ./data/roblox-audios/roblox_audio_10/184613117...  1.684308\n",
       "79049  ./data/boom-ui-sounds/boom_ui_2/Generic_Button...  2.805333\n",
       "\n",
       "[79050 rows x 2 columns]"
      ]
     },
     "execution_count": 3,
     "metadata": {},
     "output_type": "execute_result"
    }
   ],
   "source": [
    "filtered_audio_info_df"
   ]
  },
  {
   "cell_type": "code",
   "execution_count": 5,
   "id": "6fbc175e-da15-49db-9585-a4ffcd2f3703",
   "metadata": {},
   "outputs": [],
   "source": [
    "import pandas as pd\n",
    "\n",
    "# CSV 파일 로드\n",
    "train_dataset_df = pd.read_csv('train_dataset_combined_captions.csv')\n",
    "filtered_audio_info_df = pd.read_csv('filtered_audio_info.csv')\n",
    "# 'audio_path'의 './data/'를 '/workspace/data/'로 교체\n",
    "filtered_audio_info_df['audio_path'] = filtered_audio_info_df['audio_path'].str.replace('./data/', '/workspace/data/')\n",
    "\n",
    "# 'audio_path'를 기준으로 두 데이터프레임을 결합 (left join 사용)\n",
    "merged_df = pd.merge(train_dataset_df, filtered_audio_info_df[['audio_path', 'duration']], \n",
    "                     on='audio_path', how='left')\n",
    "\n",
    "# 'duration'이 NaN인 행을 찾아서 경고를 출력\n",
    "missing_duration = merged_df[merged_df['duration'].isna()]\n",
    "if not missing_duration.empty:\n",
    "    print(\"경고: 다음 audio_path에 대한 duration 정보가 누락되었습니다:\")\n",
    "    print(missing_duration['audio_path'])\n",
    "\n",
    "# 결과를 새로운 CSV 파일로 저장\n",
    "merged_df.to_csv('train_dataset_combined_captions.csv', index=False)\n"
   ]
  },
  {
   "cell_type": "code",
   "execution_count": 6,
   "id": "e358ef5f-1871-4077-9758-d5d8e489fc31",
   "metadata": {},
   "outputs": [],
   "source": [
    "import pandas as pd\n",
    "\n",
    "# CSV 파일 로드\n",
    "train_dataset_df = pd.read_csv('eval_dataset_combined_captions.csv')\n",
    "filtered_audio_info_df = pd.read_csv('filtered_audio_info.csv')\n",
    "# 'audio_path'의 './data/'를 '/workspace/data/'로 교체\n",
    "filtered_audio_info_df['audio_path'] = filtered_audio_info_df['audio_path'].str.replace('./data/', '/workspace/data/')\n",
    "\n",
    "# 'audio_path'를 기준으로 두 데이터프레임을 결합 (left join 사용)\n",
    "merged_df = pd.merge(train_dataset_df, filtered_audio_info_df[['audio_path', 'duration']], \n",
    "                     on='audio_path', how='left')\n",
    "\n",
    "# 'duration'이 NaN인 행을 찾아서 경고를 출력\n",
    "missing_duration = merged_df[merged_df['duration'].isna()]\n",
    "if not missing_duration.empty:\n",
    "    print(\"경고: 다음 audio_path에 대한 duration 정보가 누락되었습니다:\")\n",
    "    print(missing_duration['audio_path'])\n",
    "\n",
    "# 결과를 새로운 CSV 파일로 저장\n",
    "merged_df.to_csv('eval_dataset_combined_captions.csv', index=False)"
   ]
  },
  {
   "cell_type": "code",
   "execution_count": null,
   "id": "f262a47e-d882-4c69-ad5a-ab72c27292b2",
   "metadata": {},
   "outputs": [],
   "source": []
  },
  {
   "cell_type": "code",
   "execution_count": 2,
   "id": "3d0c9b3a-d855-4798-a54e-980c7fd308a1",
   "metadata": {},
   "outputs": [
    {
     "data": {
      "text/plain": [
       "('./combined_captions.csv', './filtered_epidemic_captions.csv')"
      ]
     },
     "execution_count": 2,
     "metadata": {},
     "output_type": "execute_result"
    }
   ],
   "source": [
    "import pandas as pd\n",
    "import os\n",
    "\n",
    "# Define the base path and filenames\n",
    "base_path = './'  # Update this to the directory where your files are located\n",
    "file_names = ['updated_captions_part1.csv', 'updated_captions_part2.csv', \n",
    "              'updated_captions_part3.csv', 'updated_captions_part4.csv']\n",
    "\n",
    "# Combine all CSV files into one DataFrame\n",
    "all_data = pd.DataFrame()\n",
    "for file_name in file_names:\n",
    "    file_path = os.path.join(base_path, file_name)\n",
    "    df = pd.read_csv(file_path)\n",
    "    all_data = pd.concat([all_data, df], ignore_index=True)\n",
    "\n",
    "# Save the combined data\n",
    "combined_file_path = os.path.join(base_path, 'combined_captions.csv')\n",
    "all_data.to_csv(combined_file_path, index=False)\n",
    "\n",
    "# Filter rows where 'audio_path' starts with '/workspace/data/epidemic-audios/'\n",
    "filtered_data = all_data[all_data['audio_path'].str.startswith('/workspace/data/epidemic-audios/')]\n",
    "\n",
    "# Save the filtered data\n",
    "filtered_file_path = os.path.join(base_path, 'filtered_epidemic_captions.csv')\n",
    "filtered_data.to_csv(filtered_file_path, index=False)\n",
    "\n",
    "combined_file_path, filtered_file_path  # Display the paths of the saved files"
   ]
  },
  {
   "cell_type": "markdown",
   "id": "04911a13-6894-4846-b5f6-38cd7db414b5",
   "metadata": {},
   "source": [
    "### Caption handlin"
   ]
  },
  {
   "cell_type": "code",
   "execution_count": 3,
   "id": "9d748bc8-b2c6-4e35-8713-884ecdea18ed",
   "metadata": {},
   "outputs": [],
   "source": [
    "import pandas as pd\n",
    "\n",
    "# 파일 읽기\n",
    "audio_info_df = pd.read_csv('audio_info.csv')\n",
    "combined_captions_df = pd.read_csv('combined_captions.csv')\n",
    "updated_captions_df = pd.read_csv('updated_first_3seconds_audio_captions.csv')\n",
    "\n",
    "# audio_path의 마지막 '/' 뒷부분을 기준으로 겹치는 데이터 찾기\n",
    "updated_captions_df['basename'] = updated_captions_df['audio_path'].apply(lambda x: x.split('/')[-1])\n",
    "audio_info_df['basename'] = audio_info_df['audio_path'].apply(lambda x: x.split('/')[-1])\n",
    "\n",
    "# updated_first_3seconds_audio_captions과 겹치는 마지막 항목 가져오기\n",
    "last_matching_audio_info = audio_info_df[audio_info_df['basename'].isin(updated_captions_df['basename'])].drop_duplicates('basename', keep='last')\n",
    "\n",
    "# 필요한 항목을 합치기\n",
    "result_1 = pd.merge(last_matching_audio_info, updated_captions_df, on='basename', how='inner')[['audio_path_x', 'duration', 'caption']]\n",
    "result_1.rename(columns={'audio_path_x': 'audio_path'}, inplace=True)\n",
    "\n",
    "# audio_info와 combined_captions에서 audio_path가 완전히 일치하는 데이터 합치기\n",
    "result_2 = pd.merge(audio_info_df, combined_captions_df, on='audio_path', how='inner')[['audio_path', 'duration', 'caption']]\n",
    "\n",
    "# 결과를 하나의 데이터프레임으로 합치기\n",
    "final_result = pd.concat([result_1, result_2]).drop_duplicates()\n",
    "\n",
    "# 결과를 CSV 파일로 저장\n",
    "final_result.to_csv('final_audio_captions.csv', index=False)\n"
   ]
  },
  {
   "cell_type": "code",
   "execution_count": 4,
   "id": "6a946260-f759-471a-8cec-b3c24c70f875",
   "metadata": {},
   "outputs": [],
   "source": [
    "import pandas as pd\n",
    "from sklearn.model_selection import train_test_split\n",
    "\n",
    "# 'filtered_captions.csv' 파일 읽기\n",
    "df = pd.read_csv('./final_audio_captions.csv')\n",
    "df['caption'] = df['caption'].fillna('<Random>')\n",
    "\n",
    "# 데이터를 90% 트레이닝과 10% 평가 데이터로 분할\n",
    "train_df, eval_df = train_test_split(df, test_size=0.1, random_state=42)\n",
    "\n",
    "# 분할된 데이터를 CSV 파일로 저장\n",
    "train_df.to_csv('./train_dataset_final_captions.csv', index=False)\n",
    "eval_df.to_csv('./eval_dataset_final_captions.csv', index=False)"
   ]
  },
  {
   "cell_type": "code",
   "execution_count": null,
   "id": "e937aed7-95df-42fd-bd79-046f6ce5e5e0",
   "metadata": {},
   "outputs": [],
   "source": []
  }
 ],
 "metadata": {
  "kernelspec": {
   "display_name": "Python 3 (ipykernel)",
   "language": "python",
   "name": "python3"
  },
  "language_info": {
   "codemirror_mode": {
    "name": "ipython",
    "version": 3
   },
   "file_extension": ".py",
   "mimetype": "text/x-python",
   "name": "python",
   "nbconvert_exporter": "python",
   "pygments_lexer": "ipython3",
   "version": "3.10.12"
  }
 },
 "nbformat": 4,
 "nbformat_minor": 5
}
