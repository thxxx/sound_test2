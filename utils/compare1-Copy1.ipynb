{
 "cells": [
  {
   "cell_type": "code",
   "execution_count": null,
   "id": "4d3f2440-3517-4096-931a-d1b08f7d7729",
   "metadata": {},
   "outputs": [],
   "source": [
    "# compare 1\n",
    "import os\n",
    "from audiotools import AudioSignal\n",
    "\n",
    "folders = os.listdir(\"../2experiment/test_total_444/\")\n",
    "\n",
    "for folder in folders:\n",
    "    print(folder)\n",
    "    files = os.listdir(\"../2experiment/test_total_444/\"+folder)\n",
    "    for file in files:\n",
    "        AudioSignal(\"../2experiment/test_total_444/\"+folder+\"/\"+file).widget()"
   ]
  },
  {
   "cell_type": "code",
   "execution_count": null,
   "id": "b834d0e5-4477-4bcb-b11b-85e8a4536df1",
   "metadata": {},
   "outputs": [],
   "source": []
  }
 ],
 "metadata": {
  "kernelspec": {
   "display_name": "Python 3 (ipykernel)",
   "language": "python",
   "name": "python3"
  },
  "language_info": {
   "codemirror_mode": {
    "name": "ipython",
    "version": 3
   },
   "file_extension": ".py",
   "mimetype": "text/x-python",
   "name": "python",
   "nbconvert_exporter": "python",
   "pygments_lexer": "ipython3",
   "version": "3.10.12"
  }
 },
 "nbformat": 4,
 "nbformat_minor": 5
}
