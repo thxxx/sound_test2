{
 "cells": [
  {
   "cell_type": "code",
   "execution_count": 21,
   "id": "0aec4607-4421-41cb-a7a5-050000de6fb2",
   "metadata": {},
   "outputs": [
    {
     "data": {
      "application/vnd.jupyter.widget-view+json": {
       "model_id": "7ddb9f83f8dc4cb29879d37869f5818d",
       "version_major": 2,
       "version_minor": 0
      },
      "text/plain": [
       "best.pth:   0%|          | 0.00/7.36G [00:00<?, ?B/s]"
      ]
     },
     "metadata": {},
     "output_type": "display_data"
    },
    {
     "data": {
      "text/plain": [
       "'weight/best.pth'"
      ]
     },
     "execution_count": 21,
     "metadata": {},
     "output_type": "execute_result"
    }
   ],
   "source": [
    "from huggingface_hub import hf_hub_download\n",
    "hf_hub_download(repo_id=\"youngdicey/audiogen-medium-pretraining-gdc\", filename=\"best.pth\", local_dir=\"weight\")"
   ]
  },
  {
   "cell_type": "code",
   "execution_count": 15,
   "id": "09e10167-397b-40f9-9dd4-ef53a8e4e60e",
   "metadata": {},
   "outputs": [],
   "source": [
    "import pandas as pd\n",
    "\n",
    "aa = pd.read_csv(\"../csv_files/eval_mixed_captions.csv\")"
   ]
  },
  {
   "cell_type": "code",
   "execution_count": 17,
   "id": "8d775688-f039-4faf-baa1-40dba52a8dde",
   "metadata": {},
   "outputs": [
    {
     "name": "stderr",
     "output_type": "stream",
     "text": [
      "100%|██████████| 34334/34334 [00:06<00:00, 5534.16it/s]\n"
     ]
    },
    {
     "ename": "NameError",
     "evalue": "name 'rows_for_save' is not defined",
     "output_type": "error",
     "traceback": [
      "\u001b[0;31m---------------------------------------------------------------------------\u001b[0m",
      "\u001b[0;31mNameError\u001b[0m                                 Traceback (most recent call last)",
      "Cell \u001b[0;32mIn[17], line 27\u001b[0m\n\u001b[1;32m     25\u001b[0m \u001b[38;5;28;01mwith\u001b[39;00m \u001b[38;5;28mopen\u001b[39m(\u001b[38;5;124m'\u001b[39m\u001b[38;5;124meval_mixed_captions.csv\u001b[39m\u001b[38;5;124m'\u001b[39m, \u001b[38;5;124m'\u001b[39m\u001b[38;5;124mw\u001b[39m\u001b[38;5;124m'\u001b[39m, newline\u001b[38;5;241m=\u001b[39m\u001b[38;5;124m'\u001b[39m\u001b[38;5;124m'\u001b[39m) \u001b[38;5;28;01mas\u001b[39;00m file:\n\u001b[1;32m     26\u001b[0m     writer \u001b[38;5;241m=\u001b[39m csv\u001b[38;5;241m.\u001b[39mwriter(file)\n\u001b[0;32m---> 27\u001b[0m     writer\u001b[38;5;241m.\u001b[39mwriterows(\u001b[43mrows_for_save\u001b[49m)\n",
      "\u001b[0;31mNameError\u001b[0m: name 'rows_for_save' is not defined"
     ]
    }
   ],
   "source": [
    "import soundfile as sf\n",
    "from tqdm import tqdm\n",
    "\n",
    "rows = [[\n",
    "    'audio_path',\n",
    "    'caption',\n",
    "    'duration'\n",
    "]]\n",
    "\n",
    "for i in tqdm(range(len(aa))):\n",
    "    data = aa.iloc[i]\n",
    "    audio_path = data['audio_path']\n",
    "    caption = data['caption']\n",
    "    # duration = data['duration']\n",
    "    \n",
    "    info = sf.info(audio_path)\n",
    "    duration = info.frames / info.samplerate\n",
    "\n",
    "    rows.append([\n",
    "        audio_path, caption, duration\n",
    "    ])\n",
    "\n",
    "import csv\n",
    "\n",
    "with open('eval_mixed_captions.csv', 'w', newline='') as file:\n",
    "    writer = csv.writer(file)\n",
    "    writer.writerows(rows)"
   ]
  },
  {
   "cell_type": "code",
   "execution_count": 6,
   "id": "58a61ecb-fbec-45af-887e-7ffdf11cdcdf",
   "metadata": {},
   "outputs": [],
   "source": [
    "# Evaluate\n",
    "import os\n",
    "from audiotools import AudioSignal\n",
    "\n",
    "folder_path = \"./generated_audios_finetune_mix2/epoch/\"\n",
    "files = os.listdir(folder_path)\n",
    "\n",
    "for fp in files:\n",
    "    print(fp)\n",
    "    AudioSignal(folder_path+fp).widget()"
   ]
  },
  {
   "cell_type": "code",
   "execution_count": null,
   "id": "cce00a86-45b4-4475-86f1-632e56948084",
   "metadata": {},
   "outputs": [],
   "source": []
  }
 ],
 "metadata": {
  "kernelspec": {
   "display_name": "Python 3 (ipykernel)",
   "language": "python",
   "name": "python3"
  },
  "language_info": {
   "codemirror_mode": {
    "name": "ipython",
    "version": 3
   },
   "file_extension": ".py",
   "mimetype": "text/x-python",
   "name": "python",
   "nbconvert_exporter": "python",
   "pygments_lexer": "ipython3",
   "version": "3.10.12"
  }
 },
 "nbformat": 4,
 "nbformat_minor": 5
}
